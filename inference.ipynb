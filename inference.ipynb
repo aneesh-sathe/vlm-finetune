{
 "cells": [
  {
   "cell_type": "code",
   "execution_count": 1,
   "id": "585ccb06",
   "metadata": {},
   "outputs": [
    {
     "name": "stderr",
     "output_type": "stream",
     "text": [
      "/usr/local/lib/python3.10/dist-packages/tqdm/auto.py:21: TqdmWarning: IProgress not found. Please update jupyter and ipywidgets. See https://ipywidgets.readthedocs.io/en/stable/user_install.html\n",
      "  from .autonotebook import tqdm as notebook_tqdm\n"
     ]
    }
   ],
   "source": [
    "from PIL import Image\n",
    "import requests\n",
    "import torch\n",
    "import os\n",
    "from torchvision import io\n",
    "from typing import Dict\n",
    "from transformers import Qwen2VLForConditionalGeneration, AutoTokenizer, AutoProcessor"
   ]
  },
  {
   "cell_type": "markdown",
   "id": "da7106c1",
   "metadata": {},
   "source": [
    "### Finetuned Model"
   ]
  },
  {
   "cell_type": "code",
   "execution_count": 54,
   "id": "5f0deb25",
   "metadata": {},
   "outputs": [
    {
     "name": "stderr",
     "output_type": "stream",
     "text": [
      "Loading checkpoint shards: 100%|██████████████████████████████████████████████████████████████████████████████████████████████| 2/2 [00:04<00:00,  2.08s/it]\n"
     ]
    },
    {
     "name": "stdout",
     "output_type": "stream",
     "text": [
      "['This image is a diagram from an early 20th-century book on urban planning, specifically illustrating a \"group of slumless, smokeless cities.\" The diagram is designed to show how various services and facilities are interconnected within a central area, providing a structured and orderly living environment. Here is a detailed explanation of the components and their functions:\\n\\n1. **Central Area (Core)**:\\n   - This is the central hub of the system, surrounded by five outer rings.\\n   - It includes:\\n     - **Reservoir and Waterfall**: Essential for water supply.\\n     - **Agricultural College**: Providing educational and agricultural opportunities.\\n     - **College for Blind**: Offering education to those with visual impairments.\\n     - **New Forests**: A park or recreational area.\\n     - **Reservoir & Waterfall**: Additional water source.\\n\\n2. **Outer Rings**:\\n   - **Garden City**: A residential area with good housing.\\n     - **Convalescent Homes**: For sick or injured individuals.\\n     - **Reservoir & Waterfall**: Additional water source.\\n   - **Gladesboro**: A residential area with good housing.\\n     - **Reservoir & Waterfall**: Additional water source.\\n   - **Philadelphia**: A residential area.\\n     - **Industrial Homes**: Providing industrial employment.\\n     - **Reservoir & Waterfall**: Additional water source.\\n   - **Rutlandville**: A residential area.\\n     - **Reservoir & Waterfall**: Additional water source.\\n\\n3. **Interconnections**:\\n   - The diagram shows how different services and facilities are interconnected through canals and railways.\\n   - There is a central canal that connects the central area to the outer rings, facilitating the movement of water and possibly other utilities.\\n   - Railroads are shown connecting various areas, providing an efficient means of transportation.\\n\\n4. **Population and Area**:\\n   - The diagram indicates that the total area of the group is 66,000 acres, with a population of 250,000.\\n   - Specific areas like Garden City, Gladesboro, Philadelphia, and Rutlandville are highlighted with their respective populations and services.\\n\\n5. **Scale**:\\n   - The scale of the diagram is 1 mile to 2 miles, which helps in understanding the distances between different areas.\\n\\n6. **Purpose**:\\n   - The purpose of this diagram is to illustrate a planned and orderly urban development model, aiming to provide necessary services and facilities in a structured manner, thereby improving the living conditions of the population.\\n\\nThis diagram is a classic example of urban planning, highlighting the importance of centralized services, efficient transportation, and the integration of various sectors to create a harmonious and functional living environment.']\n",
      "----------------------------------\n",
      "['This image is a black-and-white line drawing of the Empire State Building in New York City. The Empire State Building is a famous skyscraper designed by Shreve, Lamb & Harmon and was completed in 1931. It stands 1,250 feet (381 meters) tall and is one of the most recognizable landmarks in the United States. The building features a spire at the top and a series of setbacks that create a sense of height and depth. The design is a blend of modernist and Art Deco styles.']\n",
      "----------------------------------\n",
      "['This image depicts a branch of an apple tree with several apples in full bloom. The apples are a mix of green and red, indicating different stages of ripeness. The leaves are lush and green, adding to the vibrant appearance of the scene. The apples are clustered together, suggesting they are in a productive phase of growth. The background is blurred, focusing attention on the apples and leaves in the foreground. The image also includes a logo for the Royal Horticultural Society (RHS) Award of Garden Merit, indicating that the apple variety is likely recognized for its quality and suitability for garden use.']\n",
      "----------------------------------\n",
      "[\"This figure illustrates a scenario without a deadlock in a single instance resource type. Here's a detailed explanation:\\n\\n1. **P1 and R1**:\\n   - P1 is holding R1, which means P1 is currently using R1.\\n   - R1 is a resource held by P1.\\n\\n2. **P2 and R2**:\\n   - P2 is holding R2, which means P2 is currently using R2.\\n   - R2 is a resource held by P2.\\n\\n3. **P3 and R2**:\\n   - P3 is waiting for R2, which means P3 is waiting for R2 to become available before it can use it.\\n   - P3 is also holding R2.\\n   - R2 is a resource being waited upon by P3.\\n\\n4. **Arrows**:\\n   - The arrows indicate the holding and waiting states of the resources:\\n     - The arrow from P1 to R1 and P2 to R2 shows that P1 and P2 are holding the resources R1 and R2, respectively.\\n     - The arrow from P3 to R2 indicates that P3 is waiting for R2 and is holding it as well.\\n\\n5. **No Deadlock**:\\n   - The figure does not depict a deadlock situation. The only instance of a resource being held by one process and held by another process waiting for it is a single instance resource scenario without any other processes or resources involved.\\n   - Each process is using a single resource at a time without any blocking each other, thus avoiding a deadlock.\\n\\nThis scenario demonstrates that even though there are multiple processes and resources involved, there is no mutual exclusion issue leading to a deadlock. Each process is using the resources as required, without any blocking each other.\"]\n",
      "----------------------------------\n",
      "['This image is a code snippet for the `B-Tree Insert Nonfull` algorithm. B-trees are a type of binary tree data structure used for efficient storage and retrieval of data. The algorithm is designed to insert a new key into a B-tree that is not already full. Here is a detailed explanation of the code:\\n\\n1. **Initialization**:\\n   - `i = x.n`: This line initializes the index `i` with the value of `x.n`, which represents the number of nodes in the current level of the B-tree.\\n\\n2. **Checking if x.isLeaf**:\\n   - `if x.isleaf`: This line checks if the node `x` is a leaf node. A leaf node has no children. If `x.isleaf` is true, the insertion is at the leaf level, and no further operations are needed.\\n\\n3-6. **Insertion Process**:\\n   - **Inner Loop**: If `i` is greater than or equal to 1 and `k` is less than `x.key`:\\n     - **Update Key**: `x.key` is updated to `k`.\\n     - **Increase Count**: `x.n` is increased by 1.\\n     - **Write to Disk**: `DISK-WRITE(x)` to update the key in the disk.\\n   - **Outer Loop**: If `i` is greater than or equal to 1 and `k` is less than `x.key`:\\n     - **Decrease i**: `i = i - 1`.\\n\\n7. **Finding the Child Node**:\\n   - `i = i + 1`: This line increases the index `i` to the right child of the current node.\\n\\n8. **Split Operation**:\\n   - **If x.c_i.n == 2*t-1**: This line indicates that the current node has exactly two children. If true, a split operation is performed.\\n     - **Perform Split**: `B-TREE-SPLIT-CHILD(x, i)`.\\n     - **Update i**: `i = i + 1`: This line increases the index for the new child node.\\n\\n9. **Insertion into New Node**:\\n   - **Repeat Insertion**: The `B-Tree-Insert-Nonfull` algorithm is recursive, so this step is repeated for the new child node.\\n\\nThis algorithm efficiently manages the growth of the B-tree by splitting nodes when they reach a certain size, ensuring that the tree remains balanced and maintaining the property of a B-tree.']\n",
      "----------------------------------\n",
      "['This figure illustrates the differences between a single-process operating system (OS) and a multi-process OS, specifically focusing on a system with a single thread.\\n\\n### Single Process P with Single Thread\\nIn this scenario, the OS is designed to manage a single process, which is a collection of code, data, and registers. The code and data are combined into a single block, while the registers are used for storing data that needs to be accessed by multiple threads. The stack and file systems are also part of the single process. This structure is suitable for processes that do not require parallel execution but instead run sequentially.\\n\\n### Single Process P with Three Threads\\nIn this scenario, the OS is designed to manage multiple processes, allowing for parallel execution. The system has three threads, which are independent units of code that can execute simultaneously. Each thread has its own code, data, and registers. The stack and file systems are also divided among the threads, providing each thread with its own space for storage. This structure is suitable for processes that require parallel execution, such as multi-threaded applications.\\n\\n### Key Differences\\n1. **Single Process P with Single Thread**:\\n   - **Code and Data**: Combined into a single block.\\n   - **Registers**: Used for data storage.\\n   - **Stack and File Systems**: Shared among all threads.\\n   - **Sequential Execution**: Suitable for processes without parallel requirements.\\n\\n2. **Single Process P with Three Threads**:\\n   - **Code, Data, and Registers**: Divided among three threads.\\n   - **Shared Stack and File Systems**: Each thread has its own space for storage.\\n   - **Parallel Execution**: Suitable for processes that require parallel execution, such as multi-threaded applications.\\n\\n### Summary\\n- **Single Process P with Single Thread** is ideal for processes that require sequential execution and do not require parallel processing.\\n- **Single Process P with Three Threads** is ideal for processes that require parallel execution, allowing for the execution of multiple threads simultaneously.\\n\\nThe figure visually represents these differences by showing how the same resources (code, data, registers, stack, and file systems) are shared among multiple threads in the multi-process OS, providing greater flexibility and efficiency in terms of resource management and parallel processing.']\n",
      "----------------------------------\n",
      "['This figure illustrates the lifecycle of a thread in an operating system, detailing the different states a thread can transition between and the events that trigger these transitions. Here is a detailed explanation of the figure:\\n\\n1. **New State**:\\n   - A thread starts in the \"New\" state when it is created. At this stage, the thread is waiting for its allocated memory and is ready to execute.\\n\\n2. **Ready State**:\\n   - Once the thread has its allocated memory and is ready to execute, it transitions to the \"Ready\" state. In the Ready state, the thread is blocked until it is given control by the operating system. The operating system is likely to dispatch the thread to execute on the CPU.\\n\\n3. **Running State**:\\n   - When the thread is given control (dispatched), it transitions to the \"Running\" state. In the Running state, the thread is executing code on the CPU. The thread can perform any task it is assigned, including blocking or waiting.\\n\\n4. **Waiting State**:\\n   - After executing, the thread transitions to the \"Waiting\" state. In this state, the thread is blocked until it is given control again by the operating system. The thread may be waiting for an I/O operation, a condition to be met, or another task to be completed.\\n\\n5. **Cancelled and Terminated States**:\\n   - The figure also shows that the thread can be cancelled or terminated at any time during its lifecycle. This is indicated by the arrows pointing from the \"Running\" state to the \"Cancelled\" and \"Terminated\" states, respectively.\\n\\n6. **Interrupted at Thread Level**:\\n   - The figure highlights that a thread can be interrupted at the thread level, which could occur, for example, when an I/O operation is completed and the thread is given back control.\\n\\nThis lifecycle provides a clear and structured way for the operating system to manage threads, ensuring that they are executed in an orderly manner and can be interrupted appropriately.']\n",
      "----------------------------------\n"
     ]
    }
   ],
   "source": [
    "from transformers import AutoProcessor, Qwen2VLForConditionalGeneration\n",
    "from PIL import Image\n",
    "\n",
    "# Load model and processor\n",
    "model = Qwen2VLForConditionalGeneration.from_pretrained(\"aneesh-sathe/QwenVL2_VQA_LoRA\", device_map=\"auto\")\n",
    "processor = AutoProcessor.from_pretrained(\"aneesh-sathe/QwenVL2_VQA_LoRA\")\n",
    "\n",
    "for image in os.listdir(\"test_images\"):\n",
    "    image = \"test_images/\" + image\n",
    "    image = Image.open(image)\n",
    "\n",
    "    conversation = [\n",
    "        {\n",
    "            \"role\":\"user\",\n",
    "            \"content\":[\n",
    "                {\n",
    "                    \"type\":\"image\",\n",
    "                },\n",
    "                {\n",
    "                    \"type\":\"text\",\n",
    "                    \"text\":\"Describe this image.\"\n",
    "                }\n",
    "            ]\n",
    "        }\n",
    "    ]\n",
    "\n",
    "\n",
    "    # Preprocess the inputs\n",
    "    text_prompt = \"<|im_start|>system\\nYou are a helpful assistant.<|im_end|>\\n<|im_start|>user\\n<|vision_start|><|image_pad|><|vision_end|>Describe this image.<|im_end|>\\n<|im_start|>assistant\\n\"\n",
    "    # Excepted output: '<|im_start|>system\\nYou are a helpful assistant.<|im_end|>\\n<|im_start|>user\\n<|vision_start|><|image_pad|><|vision_end|>Describe this image.<|im_end|>\\n<|im_start|>assistant\\n'\n",
    "\n",
    "    inputs = processor(text=[text_prompt], images=[image], padding=True, return_tensors=\"pt\")\n",
    "    inputs = inputs.to('cuda')\n",
    "\n",
    "    # Inference: Generation of the output\n",
    "    output_ids = model.generate(**inputs, max_new_tokens=1024)\n",
    "    generated_ids = [output_ids[len(input_ids):] for input_ids, output_ids in zip(inputs.input_ids, output_ids)]\n",
    "    output_text = processor.batch_decode(generated_ids, skip_special_tokens=True, clean_up_tokenization_spaces=True)\n",
    "    print(output_text)\n",
    "    print(\"----------------------------------\")"
   ]
  },
  {
   "cell_type": "markdown",
   "id": "8e26b61f",
   "metadata": {},
   "source": [
    "### Base Model"
   ]
  },
  {
   "cell_type": "code",
   "execution_count": 53,
   "id": "67d137dc",
   "metadata": {},
   "outputs": [
    {
     "name": "stderr",
     "output_type": "stream",
     "text": [
      "Loading checkpoint shards: 100%|██████████████████████████████████████████████████████████████████████████████████████████████| 2/2 [00:04<00:00,  2.45s/it]\n"
     ]
    },
    {
     "name": "stdout",
     "output_type": "stream",
     "text": [
      "['This image is a detailed plan of a planned urban area, likely from the late 19th or early 20th century. The plan is labeled as \"Group of Slumless Smokeless Cities\" and is numbered \"No. 7.\" It is a circular map with various sections and labels indicating different components of the planned city.\\n\\n### Key Elements of the Plan:\\n\\n1. **Central Area:**\\n   - **Population:** 158,000\\n   - **Allotments:** 12,000\\n   - **Railroad:** Inter-Municipal\\n   - **Reservoir & Waterfall:** Central\\n   - **Central Park:** Large\\n   - **Municipal Railway:** To the Sea\\n\\n2. **Central Park:**\\n   - **Population:** 12,000\\n   - **Allotments:** 12,000\\n   - **Reservoir & Waterfall:** Central\\n   - **Municipal Railway:** To the Sea\\n\\n3. **Central Park:**\\n   - **Population:** 12,000\\n   - **Allotments:** 12,000\\n   - **Reservoir & Waterfall:** Central\\n   - **Municipal Railway:** To the Sea\\n\\n4. **Central Park:**\\n   - **Population:** 12,000\\n   - **Allotments:** 12,000\\n   - **Reservoir & Waterfall:** Central\\n   - **Municipal Railway:** To the Sea\\n\\n5. **Central Park:**\\n   - **Population:** 12,000\\n   - **Allotments:** 12,000\\n   - **Reservoir & Waterfall:** Central\\n   - **Municipal Railway:** To the Sea\\n\\n6. **Central Park:**\\n   - **Population:** 12,000\\n   - **Allotments:** 12,000\\n   - **Reservoir & Waterfall:** Central\\n   - **Municipal Railway:** To the Sea\\n\\n7. **Central Park:**\\n   - **Population:** 12,000\\n   - **Allotments:** 12,000\\n   - **Reservoir & Waterfall:** Central\\n   - **Municipal Railway:** To the Sea\\n\\n8. **Central Park:**\\n   - **Population:** 12,000\\n   - **Allotments:** 12,000\\n   - **Reservoir & Waterfall:** Central\\n   - **Municipal Railway:** To the Sea\\n\\n9. **Central Park:**\\n   - **Population:** 12,000\\n   - **Allotments:** 12,000\\n   - **Reservoir & Waterfall:** Central\\n   - **Municipal Railway:** To the Sea\\n\\n10. **Central Park:**\\n    - **Population:** 12,000\\n    - **Allotments:** 12,000\\n    - **Reservoir & Waterfall:** Central\\n    - **Municipal Railway:** To the Sea\\n\\n11. **Central Park:**\\n    - **Population:** 12,000\\n    - **Allotments:** 12,000\\n    - **Reservoir & Waterfall:** Central\\n    - **Municipal Railway:** To the Sea\\n\\n12. **Central Park:**\\n    - **Population:** 12,000\\n    - **Allotments:** 12,000\\n    - **Reservoir & Waterfall:** Central\\n    - **Municipal Railway:** To the Sea\\n\\n13. **Central Park:**\\n    - **Population:** 12,000\\n    - **Allotments:** 12,000\\n    - **Reservoir & Waterfall:** Central\\n    - **Municipal Railway:** To the Sea\\n\\n14. **Central Park:**\\n    - **Population:** 12,000\\n    - **Allotments:** 12,000\\n    - **Reservoir & Waterfall:** Central\\n    - **Municipal Railway:** To the Sea\\n\\n15. **Central Park:**\\n    - **Population:** 12,000\\n    - **Allotments:** 12,000\\n    - **Reservoir & Waterfall:** Central\\n    - **Municipal Railway:** To the Sea\\n\\n16. **Central Park:**\\n    - **Population:** 12,000\\n    - **Allotments:** 12,000\\n    - **Reservoir & Waterfall:** Central\\n    - **M']\n",
      "----------------------------------\n",
      "[\"The image depicts a stylized, minimalist drawing of the Empire State Building in New York City. The building is depicted in a monochromatic, line art style, with each element carefully outlined to represent the iconic structure. The Empire State Building is known for its distinctive spire and the number of floors, which are also clearly visible in the drawing. The design is clean and modern, reflecting the building's architectural style.\"]\n",
      "----------------------------------\n",
      "[\"The image shows a branch of an apple tree with several apples in various stages of ripeness. The apples are predominantly red with some greenish-yellow hues, indicating they are still in the early stages of ripening. The leaves are green and appear healthy, with some leaves showing signs of browning, which is a natural part of the apple tree's aging process. The background is blurred, focusing attention on the apples and leaves in the foreground. The image also includes a logo in the top right corner, which is the Royal Horticultural Society (RHS) Award of Garden Merit, indicating that the apples are likely a prize-winning variety.\"]\n",
      "----------------------------------\n",
      "[\"The image represents a scenario involving three processes (P1, P2, and P3) and two resources (R1 and R2). Here's a detailed description:\\n\\n1. **Processes (P1, P2, and P3)**:\\n   - P1 is holding resource R1.\\n   - P2 is holding resource R2.\\n   - P3 is waiting for resource R1.\\n\\n2. **Resources (R1 and R2)**:\\n   - R1 is held by P1.\\n   - R2 is held by P2.\\n\\n3. **Waiting States**:\\n   - P3 is waiting for R1.\\n   - P3 is waiting for R2.\\n\\n4. **Single Instance Resource Type Without Deadlock**:\\n   - The image indicates that there is no deadlock in this scenario. This means that each process is not holding a resource that it is waiting for, and there are no cycles where a process is waiting for another process to release a resource it holds.\\n\\n### Analysis:\\n- **Process P1**: It holds R1 and is waiting for R1.\\n- **Process P2**: It holds R2 and is waiting for R1.\\n- **Process P3**: It is waiting for R1 and R2.\\n\\n### Key Points:\\n- **No Deadlock**: The processes are not holding resources that they are waiting for, which is a necessary condition for avoiding deadlock.\\n- **Single Instance Resource Type**: This means that each process is holding a unique resource, and there are no shared resources that could lead to a deadlock.\\n\\n### Conclusion:\\nThe image shows a scenario where each process is holding a unique resource and is not waiting for a resource it holds, thus avoiding deadlock.\"]\n",
      "----------------------------------\n",
      "['The image is a code snippet for an algorithm named \"B-Tree-Insert-Nonfull(x, k).\" The algorithm is designed to insert a new key-value pair into a B-tree structure, where the key is less than the key of the current node. The algorithm follows these steps:\\n\\n1. Initialize `i` to `x.n` (the number of nodes in the tree).\\n2. If `x` is a leaf node, the algorithm proceeds to the next step.\\n3. While `i` is greater than or equal to 1 and `k` is less than `x.keyi`, update `x.keyi+1` to `x.keyi` and `i` to `i-1`.\\n4. If `x.keyi+1` is equal to `k`, update `x.n` to `x.n+1` and `x.keyi+1` to `k`.\\n5. Write the updated tree to disk.\\n6. If `i` is greater than or equal to 1 and `k` is less than `x.keyi`, update `i` to `i-1`.\\n7. Read the updated tree from disk.\\n8. If `x.ci.n` is equal to `2t-1`, split the node into two child nodes.\\n9. If `k` is greater than `x.keyi`, update `i` to `i+1`.\\n10. Insert the new key-value pair into the child node.\\n11. Write the updated tree to disk.\\n12. If `x.ci.n` is equal to `2t`, split the node into two child nodes.\\n13. If `k` is greater than `x.keyi`, update `i` to `i+1`.\\n14. Insert the new key-value pair into the child node.\\n15. Write the updated tree to disk.\\n16. If `x.ci.n` is equal to `2t`, split the node into two child nodes.\\n17. If `k` is greater than `x.keyi`, update `i` to `i+1`.\\n18. Insert the new key-value pair into the child node.\\n19. Write the updated tree to disk.\\n20. If `x.ci.n` is equal to `2t`, split the node into two child nodes.\\n21. If `k` is greater than `x.keyi`, update `i` to `i+1`.\\n22. Insert the new key-value pair into the child node.\\n23. Write the updated tree to disk.\\n24. If `x.ci.n` is equal to `2t`, split the node into two child nodes.\\n25. If `k` is greater than `x.keyi`, update `i` to `i+1`.\\n26. Insert the new key-value pair into the child node.\\n27. Write the updated tree to disk.\\n28. If `x.ci.n` is equal to `2t`, split the node into two child nodes.\\n29. If `k` is greater than `x.keyi`, update `i` to `i+1`.\\n30. Insert the new key-value pair into the child node.\\n31. Write the updated tree to disk.\\n32. If `x.ci.n` is equal to `2t`, split the node into two child nodes.\\n33. If `k` is greater than `x.keyi`, update `i` to `i+1`.\\n34. Insert the new key-value pair into the child node.\\n35. Write the updated tree to disk.\\n36. If `x.ci.n` is equal to `2t`, split the node into two child nodes.\\n37. If `k` is greater than `x.keyi`, update `i` to `i+1`.\\n38. Insert the new key-value pair into the child node.\\n39. Write the updated tree to disk.\\n40. If `x.ci.n` is equal to `2t`, split the node into two child nodes.\\n41. If `k` is greater than `x.keyi`, update `i` to `i+1`.\\n42. Insert the new key-value pair into the child node.\\n43. Write the updated tree to disk.\\n44. If `x.ci.n` is equal to `2t`, split the node into two child nodes.\\n45. If `k` is greater than `x.keyi`, update `i` to `i+1`.\\n46. Insert the new key-value pair into the child node.\\n47. Write the updated tree to disk.\\n48. If `x.ci.n` is equal to `2t`, split the node into two child nodes.\\n49. If `k` is greater than `x.keyi`, update `']\n",
      "----------------------------------\n",
      "['The image illustrates the difference between a single process with a single thread and a single process with three threads. Here is a detailed description of the image:\\n\\n### Left Side: Single Process P with a Single Thread\\n- **Structure**: The diagram shows a single process labeled \"P\" with a single thread.\\n- **Components**:\\n  - **Register**: Contains the register.\\n  - **Counter**: Contains the counter.\\n  - **Stack**: Contains the stack.\\n  - **Data**: Contains the data.\\n  - **Files**: Contains the files.\\n  - **Code**: Contains the code.\\n  - **Single Thread**: Represents the single thread of the process.\\n\\n### Right Side: Single Process P with Three Threads\\n- **Structure**: The diagram shows a single process labeled \"P\" with three threads.\\n- **Components**:\\n  - **Register**: Contains the register.\\n  - **Counter**: Contains the counter.\\n  - **Stack**: Contains the stack.\\n  - **Data**: Contains the data.\\n  - **Files**: Contains the files.\\n  - **Code**: Contains the code.\\n  - **First Thread**: Represents the first thread of the process.\\n  - **Second Thread**: Represents the second thread of the process.\\n  - **Third Thread**: Represents the third thread of the process.\\n\\n### Differences\\n1. **Number of Threads**: In the left side, there is only one thread, while in the right side, there are three threads.\\n2. **Process Structure**: In the left side, the process is a single thread, while in the right side, the process is a multi-threaded process with three threads.\\n3. **Concurrency**: In the left side, the process is single-threaded, meaning it can only execute one piece of code at a time. In the right side, the process is multi-threaded, meaning it can execute multiple pieces of code simultaneously.\\n\\n### Analysis\\n- **Concurrency**: The multi-threaded process allows for parallel execution of multiple pieces of code, which can significantly improve the performance of the process.\\n- **Resource Utilization**: The multi-threaded process can use more resources (CPU, memory, etc.) than a single-threaded process, as it can execute multiple threads concurrently.\\n- **Scalability**: Multi-threaded processes can scale better than single-threaded processes, as they can handle more tasks simultaneously.\\n\\n### Conclusion\\nThe image clearly illustrates the difference between a single process with a single thread and a single process with three threads, highlighting the benefits and challenges of multi-threaded processes in terms of concurrency, resource utilization, and scalability.']\n",
      "----------------------------------\n",
      "[\"The image represents a state diagram for a process or thread, illustrating its lifecycle and transitions between different states. Here is a detailed description of the states and transitions:\\n\\n1. **New**:\\n   - This state is the initial state of the process or thread.\\n   - It is represented by a small square with a white background and a black border.\\n\\n2. **Ready**:\\n   - This state represents the process or thread that is waiting for a resource or an event to occur.\\n   - It is represented by a larger square with a white background and a black border.\\n   - The transition from the Ready state to the Running state occurs when the process or thread is ready to execute.\\n\\n3. **Running**:\\n   - This state represents the process or thread that is executing a task.\\n   - It is represented by a larger square with a white background and a black border.\\n   - The transition from the Running state to the Terminated state occurs when the process or thread completes its execution.\\n\\n4. **Waiting**:\\n   - This state represents the process or thread that is waiting for a resource or an event to occur.\\n   - It is represented by a smaller square with a white background and a black border.\\n   - The transition from the Waiting state to the Ready state occurs when the process or thread is ready to execute.\\n\\n5. **Terminated**:\\n   - This state represents the process or thread that has completed its execution and is no longer active.\\n   - It is represented by a larger square with a white background and a black border.\\n   - The transition from the Terminated state to the New state occurs when the process or thread is no longer active.\\n\\n6. **Cancelled**:\\n   - This state represents the process or thread that has been canceled or terminated by the system.\\n   - It is represented by a larger square with a white background and a black border.\\n   - The transition from the Terminated state to the Cancelled state occurs when the process or thread has been canceled or terminated by the system.\\n\\nThe transitions between these states are as follows:\\n- From the New state, the process or thread can enter the Ready state.\\n- From the Ready state, the process or thread can enter the Running state.\\n- From the Running state, the process or thread can enter the Terminated state.\\n- From the Terminated state, the process or thread can enter the New state.\\n- From the Ready state, the process or thread can enter the Running state.\\n- From the Running state, the process or thread can enter the Terminated state.\\n- From the Terminated state, the process or thread can enter the New state.\\n- From the Ready state, the process or thread can enter the Waiting state.\\n- From the Waiting state, the process or thread can enter the Ready state.\\n- From the Ready state, the process or thread can enter the Running state.\\n- From the Running state, the process or thread can enter the Terminated state.\\n- From the Terminated state, the process or thread can enter the New state.\\n- From the Ready state, the process or thread can enter the Waiting state.\\n- From the Waiting state, the process or thread can enter the Ready state.\\n- From the Ready state, the process or thread can enter the Running state.\\n- From the Running state, the process or thread can enter the Terminated state.\\n- From the Terminated state, the process or thread can enter the New state.\\n- From the Ready state, the process or thread can enter the Waiting state.\\n- From the Waiting state, the process or thread can enter the Ready state.\\n- From the Ready state, the process or thread can enter the Running state.\\n- From the Running state, the process or thread can enter the Terminated state.\\n- From the Terminated state, the process or thread can enter the New state.\\n\\nThis state diagram provides a clear and concise representation of the process or thread's lifecycle, including the transitions between different states and the conditions under which each state is entered or exited.\"]\n",
      "----------------------------------\n"
     ]
    }
   ],
   "source": [
    "model = Qwen2VLForConditionalGeneration.from_pretrained(\"Qwen/Qwen2-VL-2B-Instruct\", device_map=\"auto\")\n",
    "processor = AutoProcessor.from_pretrained(\"Qwen/Qwen2-VL-2B-Instruct\")\n",
    "\n",
    "\n",
    "for image in os.listdir(\"test_images\"):\n",
    "    image = \"test_images/\" + image\n",
    "    image = Image.open(image)\n",
    "\n",
    "    conversation = [\n",
    "        {\n",
    "            \"role\":\"user\",\n",
    "            \"content\":[\n",
    "                {\n",
    "                    \"type\":\"image\",\n",
    "                },\n",
    "                {\n",
    "                    \"type\":\"text\",\n",
    "                    \"text\":\"Describe this image.\"\n",
    "                }\n",
    "            ]\n",
    "        }\n",
    "    ]\n",
    "\n",
    "\n",
    "    # Preprocess the inputs\n",
    "    text_prompt = \"<|im_start|>system\\nYou are a helpful assistant.<|im_end|>\\n<|im_start|>user\\n<|vision_start|><|image_pad|><|vision_end|>Describe this image.<|im_end|>\\n<|im_start|>assistant\\n\"\n",
    "    # Excepted output: '<|im_start|>system\\nYou are a helpful assistant.<|im_end|>\\n<|im_start|>user\\n<|vision_start|><|image_pad|><|vision_end|>Describe this image.<|im_end|>\\n<|im_start|>assistant\\n'\n",
    "\n",
    "    inputs = processor(text=[text_prompt], images=[image], padding=True, return_tensors=\"pt\")\n",
    "    inputs = inputs.to('cuda')\n",
    "\n",
    "    # Inference: Generation of the output\n",
    "    output_ids = model.generate(**inputs, max_new_tokens=1024)\n",
    "    generated_ids = [output_ids[len(input_ids):] for input_ids, output_ids in zip(inputs.input_ids, output_ids)]\n",
    "    output_text = processor.batch_decode(generated_ids, skip_special_tokens=True, clean_up_tokenization_spaces=True)\n",
    "    print(output_text)\n",
    "    print(\"----------------------------------\")"
   ]
  },
  {
   "cell_type": "code",
   "execution_count": null,
   "id": "1726cba2",
   "metadata": {},
   "outputs": [],
   "source": []
  }
 ],
 "metadata": {
  "kernelspec": {
   "display_name": "Python 3 (ipykernel)",
   "language": "python",
   "name": "python3"
  },
  "language_info": {
   "codemirror_mode": {
    "name": "ipython",
    "version": 3
   },
   "file_extension": ".py",
   "mimetype": "text/x-python",
   "name": "python",
   "nbconvert_exporter": "python",
   "pygments_lexer": "ipython3",
   "version": "3.10.12"
  }
 },
 "nbformat": 4,
 "nbformat_minor": 5
}
